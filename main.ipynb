{
  "nbformat": 4,
  "nbformat_minor": 0,
  "metadata": {
    "colab": {
      "provenance": [],
      "authorship_tag": "ABX9TyPzNKw+n8k4hTuFTcvUWSI6",
      "include_colab_link": true
    },
    "kernelspec": {
      "name": "python3",
      "display_name": "Python 3"
    },
    "language_info": {
      "name": "python"
    }
  },
  "cells": [
    {
      "cell_type": "markdown",
      "metadata": {
        "id": "view-in-github",
        "colab_type": "text"
      },
      "source": [
        "<a href=\"https://colab.research.google.com/github/JoelYanotka/text-summary-to-speech/blob/main/main.ipynb\" target=\"_parent\"><img src=\"https://colab.research.google.com/assets/colab-badge.svg\" alt=\"Open In Colab\"/></a>"
      ]
    },
    {
      "cell_type": "code",
      "execution_count": null,
      "metadata": {
        "id": "_0Xe8yUMte19"
      },
      "outputs": [],
      "source": [
        "!pip install git+https://github.com/huggingface/transformers sentencepiece datasets"
      ]
    },
    {
      "cell_type": "code",
      "source": [
        "!pip install wikipedia"
      ],
      "metadata": {
        "id": "JGvNmUVP1ouM"
      },
      "execution_count": null,
      "outputs": []
    },
    {
      "cell_type": "code",
      "source": [
        "from transformers import pipeline"
      ],
      "metadata": {
        "id": "WO_eyQw5weI0"
      },
      "execution_count": 3,
      "outputs": []
    },
    {
      "cell_type": "code",
      "source": [
        "summarizer = pipeline(\"summarization\", model=\"facebook/bart-large-cnn\")"
      ],
      "metadata": {
        "id": "C19sfWixwfnE"
      },
      "execution_count": null,
      "outputs": []
    },
    {
      "cell_type": "code",
      "source": [
        "import re\n",
        "\n",
        "import wikipedia\n",
        "from urllib.request import urlopen\n",
        "from bs4 import BeautifulSoup\n",
        "\n",
        "def summarize_page(wiki_title):\n",
        "    # Get a Wikipedia page by its title\n",
        "    wiki = wikipedia.page(wiki_title)\n",
        "\n",
        "    # Get a Wikipedia page by its url and make a soup\n",
        "    source = urlopen(wiki.url).read()\n",
        "    soup = BeautifulSoup(source,'lxml')\n",
        "\n",
        "    # page will contain the list of sections in the page, as delimited by html headlines\n",
        "    # Add a list with the page title as the first element and the summary as the second\n",
        "    page = [[soup.find('h1').get_text(), wiki.summary]]\n",
        "\n",
        "    for header in soup.find_all(['h2', 'h3']):\n",
        "        header_name = header.get_text().replace('[edit]', '')\n",
        "        if header.get_text() == 'Contents':\n",
        "            continue\n",
        "        if 'References' in header.get_text():\n",
        "            break\n",
        "        # Every element in the section list will be a list with the name of the\n",
        "        # headline as the first element and the paragraphs as the next elements\n",
        "        section = [header_name]\n",
        "        for elem in header.next_siblings:\n",
        "            # Stop at next header\n",
        "            if elem.name and elem.name.startswith('h'):\n",
        "                break\n",
        "            if elem.name == 'p':\n",
        "                # re.sub eliminate references\n",
        "                paragraph = re.sub(r'\\[.*?\\]+', '', elem.get_text())\\\n",
        "                    .replace('\\n', '')\\\n",
        "                    .replace(u'\\xa0', ' ')\n",
        "                section.append(paragraph)\n",
        "        page.append(section)\n",
        "\n",
        "    summaries = []\n",
        "    for i, section in enumerate(page):\n",
        "        if len(section) > 1:\n",
        "            for j, paragraph in enumerate(section[1:]):\n",
        "                lenght = len(paragraph.split())\n",
        "                summary = summarizer(paragraph, max_length=lenght, min_length=2, do_sample=False)\n",
        "                summaries.append(summary[0]['summary_text'])\n",
        "                print(f'\\rSection: {i+1}/{len(page)}\\tParagraph: {j+1} / {len(section)}', end='')\n",
        "    print('')\n",
        "    return summaries"
      ],
      "metadata": {
        "id": "VPgzNRjsRJOt"
      },
      "execution_count": 57,
      "outputs": []
    },
    {
      "cell_type": "code",
      "source": [
        "wiki_title = 'Sceloporus_virgatus'\n",
        "\n",
        "summarized_text = summarize_page(wiki_title)"
      ],
      "metadata": {
        "colab": {
          "base_uri": "https://localhost:8080/"
        },
        "id": "pZ0f7w_pSEhk",
        "outputId": "c298cebe-54fd-465a-f832-d3bde5022368"
      },
      "execution_count": 58,
      "outputs": [
        {
          "output_type": "stream",
          "name": "stdout",
          "text": [
            "Section: 12/12\tParagraph: 1 / 2\n"
          ]
        }
      ]
    },
    {
      "cell_type": "code",
      "source": [
        "from transformers import SpeechT5Processor, SpeechT5ForTextToSpeech, SpeechT5HifiGan\n",
        "from datasets import load_dataset\n",
        "import torch\n",
        "import soundfile as sf\n",
        "\n",
        "\n",
        "processor = SpeechT5Processor.from_pretrained(\"microsoft/speecht5_tts\")\n",
        "model = SpeechT5ForTextToSpeech.from_pretrained(\"microsoft/speecht5_tts\")\n",
        "vocoder = SpeechT5HifiGan.from_pretrained(\"microsoft/speecht5_hifigan\")\n",
        "\n",
        "def text2audio(text, output_name='output.wav', processor=processor, model=model, vocoder=vocoder):\n",
        "\n",
        "    inputs = processor(text=text, return_tensors=\"pt\")\n",
        "\n",
        "    # load xvector containing speaker's voice characteristics from a dataset\n",
        "    embeddings_dataset = load_dataset(\"Matthijs/cmu-arctic-xvectors\", split=\"validation\")\n",
        "    speaker_embeddings = torch.tensor(embeddings_dataset[7306][\"xvector\"]).unsqueeze(0)\n",
        "\n",
        "    speech = model.generate_speech(inputs[\"input_ids\"], speaker_embeddings, vocoder=vocoder)\n",
        "\n",
        "    sf.write(output_name, speech.numpy(), samplerate=16000)"
      ],
      "metadata": {
        "id": "nTUcFpJix2q5"
      },
      "execution_count": 64,
      "outputs": []
    },
    {
      "cell_type": "code",
      "source": [
        "for i, line in enumerate(summarized_text):\n",
        "    text2audio(text=line, output_name=f'output_{i:02d}.wav')"
      ],
      "metadata": {
        "id": "PgyJzvTDfNDA"
      },
      "execution_count": null,
      "outputs": []
    },
    {
      "cell_type": "code",
      "source": [
        "import os\n",
        "import wave\n",
        "\n",
        "infiles = [f for f in os.listdir() if f.startswith('output_')]\n",
        "infiles.sort()\n",
        "outfile = \"output.wav\"\n",
        "\n",
        "data= []\n",
        "for infile in infiles:\n",
        "    w = wave.open(infile, 'rb')\n",
        "    data.append([w.getparams(), w.readframes(w.getnframes())])\n",
        "    w.close()\n",
        "    \n",
        "output = wave.open(outfile, 'wb')\n",
        "output.setparams(data[0][0])\n",
        "for i in range(len(data)):\n",
        "    output.writeframes(data[i][1])\n",
        "output.close()"
      ],
      "metadata": {
        "id": "N12ctVt86C3L"
      },
      "execution_count": 70,
      "outputs": []
    }
  ]
}